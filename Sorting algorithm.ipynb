{
 "cells": [
  {
   "cell_type": "markdown",
   "metadata": {},
   "source": [
    "# 排序算法"
   ]
  },
  {
   "cell_type": "markdown",
   "metadata": {},
   "source": [
    "这是一个常用的排序算法实现的汇总，在leetcode中排序很常用，当然python里面有内置函数，我们可以sorted(list)或者list.sort()直接对数组进行排序，但是为了进一步理解排序的本质，特此写算法实现。"
   ]
  },
  {
   "cell_type": "markdown",
   "metadata": {},
   "source": [
    "# 1、冒泡排序"
   ]
  },
  {
   "cell_type": "code",
   "execution_count": 6,
   "metadata": {},
   "outputs": [],
   "source": [
    "#dubbling 排序的话时间复杂度是O(n^2)，是不有一个方法判断已经有序，直接结束\n",
    "#思路就是依次比较两个数的位置，然后考虑是否交换位置\n",
    "def dubbling(sort):\n",
    "    length = len(sort)\n",
    "    for i in range(length-1):\n",
    "        for j in range(length-1):\n",
    "            if sort[j] > sort[j+1]:\n",
    "                sort[j],sort[j+1] = sort[j+1],sort[j]\n",
    "    return sort\n",
    "\n",
    "def dubbling_new(sort):#this is a new test\n",
    "    length = len(sort)\n",
    "    for i in range(length-1):\n",
    "        times = 0\n",
    "        for j in range(length-1):\n",
    "            if sort[j] > sort[j+1]:\n",
    "                sort[j],sort[j+1] = sort[j+1],sort[j]\n",
    "                times = times + 1\n",
    "        if times == 0:\n",
    "            return sort\n",
    "    return sort"
   ]
  },
  {
   "cell_type": "code",
   "execution_count": 7,
   "metadata": {},
   "outputs": [
    {
     "name": "stdout",
     "output_type": "stream",
     "text": [
      "[1, 2, 3, 4, 5, 8, 9]\n"
     ]
    }
   ],
   "source": [
    "test = [2,5,3,8,4,1,9]\n",
    "print(dubbling_new(test))"
   ]
  },
  {
   "cell_type": "markdown",
   "metadata": {},
   "source": [
    "# 2、选择排序"
   ]
  },
  {
   "cell_type": "code",
   "execution_count": 11,
   "metadata": {},
   "outputs": [],
   "source": [
    "#选择最小的数排在左边，然后对剩下未排序的继续选,时间复杂度为O(n^2)\n",
    "def select(sort):\n",
    "    length = len(sort)\n",
    "    for i in range(length-1):\n",
    "        index = i\n",
    "        for j in range(i+1,length):\n",
    "            if sort[j] < sort[index]:\n",
    "                index = j\n",
    "        sort[i],sort[index]=sort[index],sort[i]\n",
    "    return sort"
   ]
  },
  {
   "cell_type": "code",
   "execution_count": 10,
   "metadata": {},
   "outputs": [
    {
     "name": "stdout",
     "output_type": "stream",
     "text": [
      "[1, 2, 3, 4, 4, 5, 5, 8, 9, 10]\n"
     ]
    }
   ],
   "source": [
    "test = [2,5,3,8,4,1,9,10,4,5]\n",
    "print(select(test))"
   ]
  },
  {
   "cell_type": "markdown",
   "metadata": {},
   "source": [
    "# 3、插入排序"
   ]
  },
  {
   "cell_type": "code",
   "execution_count": 53,
   "metadata": {},
   "outputs": [],
   "source": [
    "#依次选出一个数，判断它在之前拍好的数组的位置，算法复杂度O(n^2)\n",
    "def insert(sort):\n",
    "    length = len(sort)\n",
    "    for i in range(1,length):\n",
    "        j = i -1\n",
    "        index = i\n",
    "        while(j>=0):          \n",
    "            if sort[index] >= sort[j]:\n",
    "                break\n",
    "            else:\n",
    "                sort[index],sort[j] = sort[j],sort[index]\n",
    "                index = index - 1\n",
    "                j = j -1\n",
    "    return sort"
   ]
  },
  {
   "cell_type": "code",
   "execution_count": 39,
   "metadata": {},
   "outputs": [
    {
     "name": "stdout",
     "output_type": "stream",
     "text": [
      "[1, 2, 3, 4, 4, 5, 5, 8, 9, 10]\n"
     ]
    }
   ],
   "source": [
    "test = [2,5,3,8,4,1,9,10,4,5]\n",
    "print(insert(test))"
   ]
  },
  {
   "cell_type": "markdown",
   "metadata": {},
   "source": [
    "# 4、希尔排序"
   ]
  },
  {
   "cell_type": "code",
   "execution_count": 42,
   "metadata": {},
   "outputs": [],
   "source": [
    "#第一个突破O(n^2)算法的排序，是简单插入排序的改进，1959年Shell发明的。\n",
    "#主要是分不同组进行插入排序，每次步长是之前的一般，然后第一次步长是总长度的一半\n",
    "def shell(sort):\n",
    "    length = len(sort)\n",
    "    gap = int(length/2)\n",
    "    while(gap>=1):\n",
    "        for i in range(gap,length):\n",
    "            j = i - gap\n",
    "            index = i\n",
    "            while(j>=0):\n",
    "                if sort[index] >= sort[j]:\n",
    "                    break\n",
    "                else:\n",
    "                    sort[index],sort[j] = sort[j],sort[index]\n",
    "                    index = index - gap\n",
    "                    j = j - gap\n",
    "        gap = int(gap/2)\n",
    "    return sort"
   ]
  },
  {
   "cell_type": "code",
   "execution_count": 43,
   "metadata": {},
   "outputs": [
    {
     "name": "stdout",
     "output_type": "stream",
     "text": [
      "[1, 2, 3, 3, 4, 4, 5, 5, 5, 7, 8, 9, 10, 18]\n"
     ]
    }
   ],
   "source": [
    "test = [2,5,3,8,4,1,9,10,4,5,18,3,5,7]\n",
    "print(shell(test))"
   ]
  },
  {
   "cell_type": "markdown",
   "metadata": {},
   "source": [
    "# 5、归并排序"
   ]
  },
  {
   "cell_type": "code",
   "execution_count": 6,
   "metadata": {},
   "outputs": [],
   "source": [
    "#将序列为了两半进行排序，再对每个子序列分别采用归并排序，然后合并排序好的子序列\n",
    "#复杂度O(nlog2(n)),其中insect就是将两个子序列进行合并\n",
    "def merge(sort):\n",
    "    def insect(left,right):\n",
    "        output = []\n",
    "        while len(left)>0 and len(right)>0:\n",
    "            if left[0] <= right[0]:\n",
    "                output.append(left.pop(0))\n",
    "\n",
    "            else:\n",
    "                output.append(right.pop(0))\n",
    "        return output + left + right\n",
    "                \n",
    "    length = len(sort)\n",
    "    if length < 2:\n",
    "        return sort\n",
    "    else:\n",
    "        middle = int(length/2)\n",
    "        return insect(merge(sort[:middle]),merge(sort[middle:]))"
   ]
  },
  {
   "cell_type": "code",
   "execution_count": 7,
   "metadata": {},
   "outputs": [
    {
     "name": "stdout",
     "output_type": "stream",
     "text": [
      "[1, 2, 3, 3, 4, 4, 5, 5, 5, 7, 8, 9, 10, 18]\n"
     ]
    }
   ],
   "source": [
    "test = [2,5,3,8,4,1,9,10,4,5,18,3,5,7]\n",
    "print(merge(test))"
   ]
  },
  {
   "cell_type": "markdown",
   "metadata": {},
   "source": [
    "# 6、快速排序"
   ]
  },
  {
   "cell_type": "code",
   "execution_count": 12,
   "metadata": {},
   "outputs": [],
   "source": [
    "#取一个数为基准，小于该数的放左边，大于该数的放右边，然后对左右进行递归快速排序\n",
    "#时间复杂度O(nlog2(n))，其中pivot就是快排，然后大函数就是返回下一组快排\n",
    "def quick(sort):    \n",
    "    def pivot(nums):\n",
    "        standard = nums[0]\n",
    "        times = 1\n",
    "        for i in range(1,len(nums)):\n",
    "            if nums[i] <= standard:\n",
    "                nums[i],nums[times]=nums[times],nums[i]\n",
    "                times += 1\n",
    "            else:\n",
    "                pass\n",
    "        nums[0],nums[times-1]=nums[times-1],nums[0]\n",
    "        return nums,times-1\n",
    "    length = len(sort)\n",
    "    \n",
    "    if length < 2:\n",
    "        return sort\n",
    "    else:\n",
    "        nums,index = pivot(sort)\n",
    "        return quick(nums[:index]) + [nums[index]] + quick(nums[index+1:])"
   ]
  },
  {
   "cell_type": "code",
   "execution_count": 13,
   "metadata": {},
   "outputs": [
    {
     "name": "stdout",
     "output_type": "stream",
     "text": [
      "[1, 2, 3, 3, 4, 4, 5, 5, 5, 7, 8, 9, 10, 18]\n"
     ]
    }
   ],
   "source": [
    "test = [2,5,3,8,4,1,9,10,4,5,18,3,5,7]\n",
    "print(quick(test))"
   ]
  },
  {
   "cell_type": "markdown",
   "metadata": {},
   "source": [
    "# 7、堆排序"
   ]
  },
  {
   "cell_type": "code",
   "execution_count": 47,
   "metadata": {},
   "outputs": [],
   "source": [
    "#将数组形成一个二叉堆（无序），然后将最大的数换到堆顶后与右下角的值进行互换\n",
    "#然后对剩下的进行重复堆排序，本质上是利用二叉堆找出最大的数，算是选择排序的变形\n",
    "#首先我们要建立一个二叉最大堆\n",
    "#时间复杂度O(nlog2(n))\n",
    "def heap(sort):\n",
    "    def maxheap(nums):\n",
    "        for index in range(len(nums)-1,0,-1):\n",
    "            if index%2 == 0:\n",
    "                middle = int(index/2 - 1)\n",
    "            else:\n",
    "                middle = int((index+1)/2 - 1)\n",
    "            \n",
    "            if nums[index] > nums[middle]:\n",
    "                nums[index],nums[middle] = nums[middle],nums[index]\n",
    "\n",
    "        return nums\n",
    "    if len(sort) < 2:\n",
    "        return sort\n",
    "    while len(sort)>=2:\n",
    "        nums = maxheap(sort)\n",
    "        nums[0],nums[-1] = nums[-1],nums[0]\n",
    "        return heap(nums[:-1]) + [nums[-1]]\n",
    "                "
   ]
  },
  {
   "cell_type": "code",
   "execution_count": 49,
   "metadata": {},
   "outputs": [
    {
     "name": "stdout",
     "output_type": "stream",
     "text": [
      "[1, 2, 3, 3, 4, 4, 5, 5, 5, 7, 8, 9, 10, 18]\n"
     ]
    }
   ],
   "source": [
    "test = [2,5,3,8,4,1,9,10,4,5,18,3,5,7]\n",
    "print(heap(test))"
   ]
  },
  {
   "cell_type": "markdown",
   "metadata": {},
   "source": [
    "# 8、计数排序"
   ]
  },
  {
   "cell_type": "code",
   "execution_count": 50,
   "metadata": {},
   "outputs": [],
   "source": [
    "#找出数组中最大和最小的数，统计里面每个数出现的次数，然后将所有的累加起来\n",
    "#线性时间复杂度，前提是我们有max和min以及count函数\n",
    "#适用于数组范围不大且比较集中的时候\n",
    "def count(sort):\n",
    "    max_num = max(sort)\n",
    "    min_num = min(sort)\n",
    "    stack = []\n",
    "    for index in range(min_num,max_num+1):\n",
    "        times = sort.count(index)\n",
    "        for i in range(times):\n",
    "            stack.append(index)\n",
    "    return stack\n",
    "    "
   ]
  },
  {
   "cell_type": "code",
   "execution_count": 51,
   "metadata": {},
   "outputs": [
    {
     "name": "stdout",
     "output_type": "stream",
     "text": [
      "[1, 2, 3, 3, 4, 4, 5, 5, 5, 7, 8, 9, 10, 18]\n"
     ]
    }
   ],
   "source": [
    "test = [2,5,3,8,4,1,9,10,4,5,18,3,5,7]\n",
    "print(count(test))"
   ]
  },
  {
   "cell_type": "markdown",
   "metadata": {},
   "source": [
    "# 9、桶排序"
   ]
  },
  {
   "cell_type": "code",
   "execution_count": 61,
   "metadata": {},
   "outputs": [],
   "source": [
    "#计数排序的升级版，把数据映射到桶里面，然后对每个通里面的数据进行排序\n",
    "#算法时间复杂度最坏O(n^2),平均O(n+k)\n",
    "def bucket(sort):\n",
    "    max_num = max(sort)\n",
    "    min_num = min(sort)\n",
    "    length = len(sort)\n",
    "    bucket_num = 5#this is num of bucket,you can set another\n",
    "    bucket_size = (max_num - min_num)/bucket_num\n",
    "    bucket = []\n",
    "    for i in range(bucket_num+1):#create bucket\n",
    "        bucket.append([])\n",
    "    for i in range(length):\n",
    "        index = int((sort[i]-min_num)/bucket_size)\n",
    "        bucket[index].append(sort[i])\n",
    "    stack = []\n",
    "    for i in range(bucket_num+1):\n",
    "        bucket[i] = insert(bucket[i])#use insect sorting algorithm\n",
    "        stack = stack + bucket[i]\n",
    "    return stack\n",
    "\n",
    "def insert(sort):#insect sorting algorithm\n",
    "    length = len(sort)\n",
    "    for i in range(1,length):\n",
    "        j = i -1\n",
    "        index = i\n",
    "        while(j>=0):          \n",
    "            if sort[index] >= sort[j]:\n",
    "                break\n",
    "            else:\n",
    "                sort[index],sort[j] = sort[j],sort[index]\n",
    "                index = index - 1\n",
    "                j = j -1\n",
    "    return sort"
   ]
  },
  {
   "cell_type": "code",
   "execution_count": 62,
   "metadata": {},
   "outputs": [
    {
     "name": "stdout",
     "output_type": "stream",
     "text": [
      "[1, 2, 3, 3, 4, 4, 5, 5, 5, 7, 8, 9, 10, 18]\n"
     ]
    }
   ],
   "source": [
    "test = [2,5,3,8,4,1,9,10,4,5,18,3,5,7]\n",
    "print(bucket(test))"
   ]
  },
  {
   "cell_type": "markdown",
   "metadata": {},
   "source": [
    "# 10、基数排序"
   ]
  },
  {
   "cell_type": "code",
   "execution_count": 65,
   "metadata": {},
   "outputs": [],
   "source": [
    "#先按首置位进行排序，然后对后面的进行排序\n",
    "#如果默认在0—99的话，先将十位部分相同的排在一块，然后将小数位相同的排在一块\n",
    "#也是一种变形的桶排序\n",
    "def radix(sort):\n",
    "    bucket = []\n",
    "    for i in range(10):\n",
    "        bucket.append([])\n",
    "    length = len(sort)\n",
    "    for i in range(length):\n",
    "        remain = sort[i]%10\n",
    "        bucket[remain].append(sort[i])\n",
    "    stack =[]\n",
    "    for i in range(10):       \n",
    "        stack = stack + bucket[i]\n",
    "    bucket =[]\n",
    "    for i in range(10):\n",
    "        bucket.append([])\n",
    "    for i in range(length):\n",
    "        remain = int(stack[i]/10)\n",
    "        bucket[remain].append(stack[i])\n",
    "    stack =[]\n",
    "    for i in range(10):       \n",
    "        stack = stack + bucket[i]\n",
    "    return stack"
   ]
  },
  {
   "cell_type": "code",
   "execution_count": 66,
   "metadata": {},
   "outputs": [
    {
     "name": "stdout",
     "output_type": "stream",
     "text": [
      "[1, 2, 3, 3, 4, 4, 5, 5, 5, 7, 8, 9, 10, 18]\n"
     ]
    }
   ],
   "source": [
    "test = [2,5,3,8,4,1,9,10,4,5,18,3,5,7]\n",
    "print(radix(test))"
   ]
  },
  {
   "cell_type": "code",
   "execution_count": null,
   "metadata": {},
   "outputs": [],
   "source": []
  }
 ],
 "metadata": {
  "kernelspec": {
   "display_name": "Python 3",
   "language": "python",
   "name": "python3"
  },
  "language_info": {
   "codemirror_mode": {
    "name": "ipython",
    "version": 3
   },
   "file_extension": ".py",
   "mimetype": "text/x-python",
   "name": "python",
   "nbconvert_exporter": "python",
   "pygments_lexer": "ipython3",
   "version": "3.7.6"
  }
 },
 "nbformat": 4,
 "nbformat_minor": 4
}
